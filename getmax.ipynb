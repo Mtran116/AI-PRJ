{
 "cells": [
  {
   "cell_type": "code",
   "execution_count": 39,
   "metadata": {},
   "outputs": [
    {
     "name": "stdout",
     "output_type": "stream",
     "text": [
      "96\n",
      "0 times  5\n",
      "0 times  11\n"
     ]
    }
   ],
   "source": [
    "def getmax():\n",
    "    getmax1 = [1,2,3,4,5,7]\n",
    "    getmax2 = [7,8,9,10,11,12]\n",
    "\n",
    "    summax = int(200)\n",
    "    b= int( 1* max(getmax1) + 1*max(getmax2) +2* max(getmax1) + 2*max(getmax2) +3* max(getmax1) + 3*max(getmax2))\n",
    "    i = int(0)\n",
    "    if b<summax:\n",
    "        del getmax1[5]\n",
    "        del getmax2[5]\n",
    "        b1 = int( 1* max(getmax1) + 1*max(getmax2) +2* max(getmax1) + 2*max(getmax2) +3* max(getmax1) + 3*max(getmax2))\n",
    "\n",
    "    \n",
    "        for i in range(1,3):\n",
    "            b1 == int(i*max(getmax1) + i*max(getmax2))\n",
    "            if i==3:\n",
    "                break\n",
    "    print(b, b1) \n",
    "    print(i, 'times ', max(getmax1))\n",
    "    print(i, 'times ', max(getmax2))\n",
    "\n",
    "getmax()    \n",
    "\n"
   ]
  }
 ],
 "metadata": {
  "kernelspec": {
   "display_name": "Python 3.10.7 64-bit",
   "language": "python",
   "name": "python3"
  },
  "language_info": {
   "codemirror_mode": {
    "name": "ipython",
    "version": 3
   },
   "file_extension": ".py",
   "mimetype": "text/x-python",
   "name": "python",
   "nbconvert_exporter": "python",
   "pygments_lexer": "ipython3",
   "version": "3.10.7"
  },
  "orig_nbformat": 4,
  "vscode": {
   "interpreter": {
    "hash": "18d03455942f3100a6ddcf13e6646257c4b6093e3620c452468d8a18c7f40afe"
   }
  }
 },
 "nbformat": 4,
 "nbformat_minor": 2
}
