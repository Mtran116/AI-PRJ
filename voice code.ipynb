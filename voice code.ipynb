{
 "cells": [
  {
   "cell_type": "code",
   "execution_count": 29,
   "metadata": {},
   "outputs": [
    {
     "name": "stdout",
     "output_type": "stream",
     "text": [
      "Adjusting noise \n",
      "Recording for 10 seconds\n"
     ]
    },
    {
     "ename": "KeyboardInterrupt",
     "evalue": "",
     "output_type": "error",
     "traceback": [
      "\u001b[1;31m---------------------------------------------------------------------------\u001b[0m",
      "\u001b[1;31mKeyboardInterrupt\u001b[0m                         Traceback (most recent call last)",
      "Cell \u001b[1;32mIn [29], line 21\u001b[0m\n\u001b[0;32m     19\u001b[0m     recognizer\u001b[39m.\u001b[39madjust_for_ambient_noise(source, duration\u001b[39m=\u001b[39m\u001b[39m1\u001b[39m)\n\u001b[0;32m     20\u001b[0m     \u001b[39mprint\u001b[39m(\u001b[39m\"\u001b[39m\u001b[39mRecording for 10 seconds\u001b[39m\u001b[39m\"\u001b[39m)\n\u001b[1;32m---> 21\u001b[0m     recorded_audio \u001b[39m=\u001b[39m recognizer\u001b[39m.\u001b[39mlisten(source, timeout\u001b[39m=\u001b[39m\u001b[39m10\u001b[39m)\n\u001b[0;32m     22\u001b[0m     \u001b[39mprint\u001b[39m(\u001b[39m\"\u001b[39m\u001b[39mDone recording\u001b[39m\u001b[39m\"\u001b[39m)\n\u001b[0;32m     24\u001b[0m \u001b[39m''' Recorgnizing the Audio '''\u001b[39;00m\n",
      "File \u001b[1;32mc:\\Users\\Minh Coi\\AppData\\Local\\Programs\\Python\\Python310\\lib\\site-packages\\speech_recognition\\__init__.py:652\u001b[0m, in \u001b[0;36mRecognizer.listen\u001b[1;34m(self, source, timeout, phrase_time_limit, snowboy_configuration)\u001b[0m\n\u001b[0;32m    649\u001b[0m \u001b[39mif\u001b[39;00m phrase_time_limit \u001b[39mand\u001b[39;00m elapsed_time \u001b[39m-\u001b[39m phrase_start_time \u001b[39m>\u001b[39m phrase_time_limit:\n\u001b[0;32m    650\u001b[0m     \u001b[39mbreak\u001b[39;00m\n\u001b[1;32m--> 652\u001b[0m buffer \u001b[39m=\u001b[39m source\u001b[39m.\u001b[39;49mstream\u001b[39m.\u001b[39;49mread(source\u001b[39m.\u001b[39;49mCHUNK)\n\u001b[0;32m    653\u001b[0m \u001b[39mif\u001b[39;00m \u001b[39mlen\u001b[39m(buffer) \u001b[39m==\u001b[39m \u001b[39m0\u001b[39m: \u001b[39mbreak\u001b[39;00m  \u001b[39m# reached end of the stream\u001b[39;00m\n\u001b[0;32m    654\u001b[0m frames\u001b[39m.\u001b[39mappend(buffer)\n",
      "File \u001b[1;32mc:\\Users\\Minh Coi\\AppData\\Local\\Programs\\Python\\Python310\\lib\\site-packages\\speech_recognition\\__init__.py:161\u001b[0m, in \u001b[0;36mMicrophone.MicrophoneStream.read\u001b[1;34m(self, size)\u001b[0m\n\u001b[0;32m    160\u001b[0m \u001b[39mdef\u001b[39;00m \u001b[39mread\u001b[39m(\u001b[39mself\u001b[39m, size):\n\u001b[1;32m--> 161\u001b[0m     \u001b[39mreturn\u001b[39;00m \u001b[39mself\u001b[39;49m\u001b[39m.\u001b[39;49mpyaudio_stream\u001b[39m.\u001b[39;49mread(size, exception_on_overflow\u001b[39m=\u001b[39;49m\u001b[39mFalse\u001b[39;49;00m)\n",
      "File \u001b[1;32mc:\\Users\\Minh Coi\\AppData\\Local\\Programs\\Python\\Python310\\lib\\site-packages\\pyaudio.py:612\u001b[0m, in \u001b[0;36mStream.read\u001b[1;34m(self, num_frames, exception_on_overflow)\u001b[0m\n\u001b[0;32m    608\u001b[0m \u001b[39mif\u001b[39;00m \u001b[39mnot\u001b[39;00m \u001b[39mself\u001b[39m\u001b[39m.\u001b[39m_is_input:\n\u001b[0;32m    609\u001b[0m     \u001b[39mraise\u001b[39;00m \u001b[39mIOError\u001b[39;00m(\u001b[39m\"\u001b[39m\u001b[39mNot input stream\u001b[39m\u001b[39m\"\u001b[39m,\n\u001b[0;32m    610\u001b[0m                   paCanNotReadFromAnOutputOnlyStream)\n\u001b[1;32m--> 612\u001b[0m \u001b[39mreturn\u001b[39;00m pa\u001b[39m.\u001b[39;49mread_stream(\u001b[39mself\u001b[39;49m\u001b[39m.\u001b[39;49m_stream, num_frames, exception_on_overflow)\n",
      "\u001b[1;31mKeyboardInterrupt\u001b[0m: "
     ]
    }
   ],
   "source": [
    "import speech_recognition as sr\n",
    "import wikipedia\n",
    "wikipedia.set_lang('vi')\n",
    "language = 'vi'\n",
    "recognizer = sr.Recognizer()\n",
    "from gtts import gTTS\n",
    "import os\n",
    "\n",
    "''' recording the sound '''\n",
    "from gtts import gTTS\n",
    "import os\n",
    "mytext = \"ĐM THẰNG 34!\"\n",
    "audio = gTTS(text=mytext, lang=\"vi\", slow=False)\n",
    "audio.save(\"example.mp3\")\n",
    "os.system(\"start example.mp3\")\n",
    "\n",
    "with sr.Microphone() as source:\n",
    "    print(\"Adjusting noise \")\n",
    "    recognizer.adjust_for_ambient_noise(source, duration=1)\n",
    "    print(\"Recording for 10 seconds\")\n",
    "    recorded_audio = recognizer.listen(source, timeout=10)\n",
    "    print(\"Done recording\")\n",
    "\n",
    "''' Recorgnizing the Audio '''\n",
    "try:\n",
    "    print(\"Recognizing the text\")\n",
    "    text = recognizer.recognize_google(\n",
    "            recorded_audio, \n",
    "            language=\"vi\"\n",
    "        )\n",
    "    print(\"Decoded Text : {}\".format(text))\n",
    "\n",
    "except Exception as ex:\n",
    "    print(ex)\n",
    "\n",
    "\n",
    "#ham kiem tra so thich cua user co xuat hien trong DB khong:\n",
    "#mylist.count(val)\n",
    "#code tuong tu : https://howkteam.vn/course/bai-tap-python-tu-luyen/viet-ham-tra-ve-gia-tri-so-luong-va-vi-tri-xuat-hien-cua-phan-tu-lon-nhat-trong-danh-sach-tham-so-4197"
   ]
  }
 ],
 "metadata": {
  "kernelspec": {
   "display_name": "Python 3.10.7 64-bit",
   "language": "python",
   "name": "python3"
  },
  "language_info": {
   "codemirror_mode": {
    "name": "ipython",
    "version": 3
   },
   "file_extension": ".py",
   "mimetype": "text/x-python",
   "name": "python",
   "nbconvert_exporter": "python",
   "pygments_lexer": "ipython3",
   "version": "3.10.7"
  },
  "orig_nbformat": 4,
  "vscode": {
   "interpreter": {
    "hash": "18d03455942f3100a6ddcf13e6646257c4b6093e3620c452468d8a18c7f40afe"
   }
  }
 },
 "nbformat": 4,
 "nbformat_minor": 2
}
