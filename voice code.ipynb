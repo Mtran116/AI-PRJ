{
 "cells": [
  {
   "cell_type": "code",
   "execution_count": 32,
   "metadata": {},
   "outputs": [
    {
     "name": "stdout",
     "output_type": "stream",
     "text": [
      "Adjusting noise \n",
      "Recording for 10 seconds\n",
      "Done recording\n",
      "Recognizing the text\n",
      " Before Decoded Text : I want chicken\n",
      "After Decoded Text :  chicken\n",
      " chicken\n"
     ]
    },
    {
     "data": {
      "text/plain": [
       "1"
      ]
     },
     "execution_count": 32,
     "metadata": {},
     "output_type": "execute_result"
    }
   ],
   "source": [
    "import speech_recognition as sr\n",
    "import wikipedia\n",
    "wikipedia.set_lang('vi')\n",
    "language = 'vi'\n",
    "recognizer = sr.Recognizer()\n",
    "from gtts import gTTS\n",
    "import os\n",
    "\n",
    "''' recording the sound '''\n",
    "from gtts import gTTS\n",
    "import os\n",
    "\n",
    "\n",
    "with sr.Microphone() as source:\n",
    "    print(\"Adjusting noise \")\n",
    "    recognizer.adjust_for_ambient_noise(source, duration=1)\n",
    "    print(\"Recording for 10 seconds\")\n",
    "    recorded_audio = recognizer.listen(source, timeout=10)\n",
    "    print(\"Done recording\")\n",
    "\n",
    "''' Recorgnizing the Audio '''\n",
    "try:\n",
    "    print(\"Recognizing the text\")\n",
    "    text = recognizer.recognize_google(\n",
    "            recorded_audio, \n",
    "            language=\"en\"\n",
    "        )\n",
    "    newtext=text.replace(\"I want \", '')\n",
    "    b =str(newtext)\n",
    "    print(\" Before Decoded Text : {}\".format(text))\n",
    "    print(\"After Decoded Text : {}\".format(newtext))\n",
    "    print(b)\n",
    "except Exception as ex:\n",
    "    print(ex)\n",
    "list1=[' beef',' chicken',' pork']\n",
    "\n",
    "\n",
    "#list1=['beef','chicken','pork']\n",
    "if list1.index(b) == 1 :\n",
    "    print(\"Your choice is in the MENU\")\n",
    "else:\n",
    "    print (\"Your choice is not in the MENU\")\n",
    "#ham kiem tra so thich cua user co xuat hien trong DB khong:\n",
    "#mylist.count(val)\n",
    "#code tuong tu : https://howkteam.vn/course/bai-tap-python-tu-luyen/viet-ham-tra-ve-gia-tri-so-luong-va-vi-tri-xuat-hien-cua-phan-tu-lon-nhat-trong-danh-sach-tham-so-4197"
   ]
  }
 ],
 "metadata": {
  "kernelspec": {
   "display_name": "Python 3.10.7 64-bit",
   "language": "python",
   "name": "python3"
  },
  "language_info": {
   "codemirror_mode": {
    "name": "ipython",
    "version": 3
   },
   "file_extension": ".py",
   "mimetype": "text/x-python",
   "name": "python",
   "nbconvert_exporter": "python",
   "pygments_lexer": "ipython3",
   "version": "3.10.7"
  },
  "orig_nbformat": 4,
  "vscode": {
   "interpreter": {
    "hash": "18d03455942f3100a6ddcf13e6646257c4b6093e3620c452468d8a18c7f40afe"
   }
  }
 },
 "nbformat": 4,
 "nbformat_minor": 2
}
